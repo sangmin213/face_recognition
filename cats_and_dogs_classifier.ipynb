{
  "nbformat": 4,
  "nbformat_minor": 0,
  "metadata": {
    "colab": {
      "name": "cats_and_dogs_classifier",
      "provenance": [],
      "collapsed_sections": [],
      "authorship_tag": "ABX9TyOaNv9ajJOJTf9QFN7AP1bH",
      "include_colab_link": true
    },
    "kernelspec": {
      "name": "python3",
      "display_name": "Python 3"
    },
    "language_info": {
      "name": "python"
    },
    "accelerator": "GPU"
  },
  "cells": [
    {
      "cell_type": "markdown",
      "metadata": {
        "id": "view-in-github",
        "colab_type": "text"
      },
      "source": [
        "<a href=\"https://colab.research.google.com/github/sangmin213/face_recognition/blob/main/cats_and_dogs_classifier.ipynb\" target=\"_parent\"><img src=\"https://colab.research.google.com/assets/colab-badge.svg\" alt=\"Open In Colab\"/></a>"
      ]
    },
    {
      "cell_type": "code",
      "execution_count": null,
      "metadata": {
        "colab": {
          "base_uri": "https://localhost:8080/"
        },
        "id": "4WTvOYVtGWZv",
        "outputId": "ca28e4d3-a5e9-43f3-ee35-790159b930d6"
      },
      "outputs": [
        {
          "output_type": "stream",
          "name": "stdout",
          "text": [
            "Requirement already satisfied: kaggle in /usr/local/lib/python3.7/dist-packages (1.5.12)\n",
            "Requirement already satisfied: requests in /usr/local/lib/python3.7/dist-packages (from kaggle) (2.23.0)\n",
            "Requirement already satisfied: six>=1.10 in /usr/local/lib/python3.7/dist-packages (from kaggle) (1.15.0)\n",
            "Requirement already satisfied: python-dateutil in /usr/local/lib/python3.7/dist-packages (from kaggle) (2.8.2)\n",
            "Requirement already satisfied: urllib3 in /usr/local/lib/python3.7/dist-packages (from kaggle) (1.24.3)\n",
            "Requirement already satisfied: python-slugify in /usr/local/lib/python3.7/dist-packages (from kaggle) (5.0.2)\n",
            "Requirement already satisfied: tqdm in /usr/local/lib/python3.7/dist-packages (from kaggle) (4.62.3)\n",
            "Requirement already satisfied: certifi in /usr/local/lib/python3.7/dist-packages (from kaggle) (2021.10.8)\n",
            "Requirement already satisfied: text-unidecode>=1.3 in /usr/local/lib/python3.7/dist-packages (from python-slugify->kaggle) (1.3)\n",
            "Requirement already satisfied: idna<3,>=2.5 in /usr/local/lib/python3.7/dist-packages (from requests->kaggle) (2.10)\n",
            "Requirement already satisfied: chardet<4,>=3.0.2 in /usr/local/lib/python3.7/dist-packages (from requests->kaggle) (3.0.4)\n"
          ]
        }
      ],
      "source": [
        "# kaggle package 설치\n",
        "!pip install kaggle"
      ]
    },
    {
      "cell_type": "code",
      "source": [
        "# kaggle api json파일 업로드\n",
        "from google.colab import files\n",
        "files.upload()"
      ],
      "metadata": {
        "colab": {
          "resources": {
            "http://localhost:8080/nbextensions/google.colab/files.js": {
              "data": "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",
              "ok": true,
              "headers": [
                [
                  "content-type",
                  "application/javascript"
                ]
              ],
              "status": 200,
              "status_text": ""
            }
          },
          "base_uri": "https://localhost:8080/",
          "height": 95
        },
        "id": "j2hGFVCSGd7d",
        "outputId": "0531728e-6397-43d5-dec7-0a29c6a941ad"
      },
      "execution_count": null,
      "outputs": [
        {
          "output_type": "display_data",
          "data": {
            "text/html": [
              "\n",
              "     <input type=\"file\" id=\"files-8e879daa-ad6f-4a31-a44a-8732ad811e82\" name=\"files[]\" multiple disabled\n",
              "        style=\"border:none\" />\n",
              "     <output id=\"result-8e879daa-ad6f-4a31-a44a-8732ad811e82\">\n",
              "      Upload widget is only available when the cell has been executed in the\n",
              "      current browser session. Please rerun this cell to enable.\n",
              "      </output>\n",
              "      <script src=\"/nbextensions/google.colab/files.js\"></script> "
            ],
            "text/plain": [
              "<IPython.core.display.HTML object>"
            ]
          },
          "metadata": {}
        },
        {
          "output_type": "stream",
          "name": "stdout",
          "text": [
            "Saving kaggle.json to kaggle.json\n"
          ]
        },
        {
          "output_type": "execute_result",
          "data": {
            "text/plain": [
              "{'kaggle.json': b'{\"username\":\"smhan220\",\"key\":\"0e778591aa35385601f9adb94a47a724\"}'}"
            ]
          },
          "metadata": {},
          "execution_count": 2
        }
      ]
    },
    {
      "cell_type": "code",
      "source": [
        "# kaggle.json파일 폴더 위치 변경 및 실행\n",
        "!mkdir -p ~/.kaggle\n",
        "!cp kaggle.json ~/.kaggle\n",
        "!chmod 600 ~/.kaggle/kaggle.json"
      ],
      "metadata": {
        "id": "KA5-hvwnJeRE"
      },
      "execution_count": null,
      "outputs": []
    },
    {
      "cell_type": "code",
      "source": [
        "# 데이터 셋 불러오기\n",
        "!kaggle competitions download -c dogs-vs-cats"
      ],
      "metadata": {
        "colab": {
          "base_uri": "https://localhost:8080/"
        },
        "id": "WMpN4ImyIxmq",
        "outputId": "a4a3d562-8f50-4875-80c9-297a892be01c"
      },
      "execution_count": null,
      "outputs": [
        {
          "output_type": "stream",
          "name": "stdout",
          "text": [
            "Warning: Looks like you're using an outdated API Version, please consider updating (server 1.5.12 / client 1.5.4)\n",
            "Downloading train.zip to /content\n",
            " 96% 521M/543M [00:02<00:00, 258MB/s]\n",
            "100% 543M/543M [00:02<00:00, 251MB/s]\n",
            "Downloading sampleSubmission.csv to /content\n",
            "  0% 0.00/86.8k [00:00<?, ?B/s]\n",
            "100% 86.8k/86.8k [00:00<00:00, 88.2MB/s]\n",
            "Downloading test1.zip to /content\n",
            " 97% 263M/271M [00:01<00:00, 246MB/s]\n",
            "100% 271M/271M [00:01<00:00, 242MB/s]\n"
          ]
        }
      ]
    },
    {
      "cell_type": "code",
      "source": [
        "# colab 원격 서버에 폴더 생성\n",
        "!mkdir cats_and_dogs"
      ],
      "metadata": {
        "id": "oTXUTUDY0FN5"
      },
      "execution_count": null,
      "outputs": []
    },
    {
      "cell_type": "code",
      "source": [
        "ls"
      ],
      "metadata": {
        "colab": {
          "base_uri": "https://localhost:8080/"
        },
        "id": "mRyBjjN7UPvd",
        "outputId": "98ebce96-5994-4a56-efad-a2718dbfa26b"
      },
      "execution_count": null,
      "outputs": [
        {
          "output_type": "stream",
          "name": "stdout",
          "text": [
            "\u001b[0m\u001b[01;34mcats_and_dogs\u001b[0m/  \u001b[01;34msample_data\u001b[0m/          test1.zip\n",
            "kaggle.json     sampleSubmission.csv  train.zip\n"
          ]
        }
      ]
    },
    {
      "cell_type": "code",
      "source": [
        "# 경로 이동\n",
        "%cd ./cats_and_dogs"
      ],
      "metadata": {
        "id": "1eWxuBej0O8_",
        "colab": {
          "base_uri": "https://localhost:8080/"
        },
        "outputId": "61ed6cc3-32a4-4194-bf75-fe9fde7160a2"
      },
      "execution_count": null,
      "outputs": [
        {
          "output_type": "stream",
          "name": "stdout",
          "text": [
            "/content/cats_and_dogs\n"
          ]
        }
      ]
    },
    {
      "cell_type": "code",
      "source": [
        "!pwd"
      ],
      "metadata": {
        "colab": {
          "base_uri": "https://localhost:8080/"
        },
        "id": "LnlE1o_XUtwI",
        "outputId": "aa0bbcc6-079b-4b17-f488-d9f09888ef0b"
      },
      "execution_count": null,
      "outputs": [
        {
          "output_type": "stream",
          "name": "stdout",
          "text": [
            "/content/cats_and_dogs\n"
          ]
        }
      ]
    },
    {
      "cell_type": "code",
      "source": [
        "# 현재 위치에 파일 풀기\n",
        "!unzip -qq \"/content/test1.zip\"\n",
        "!unzip -qq \"/content/train.zip\""
      ],
      "metadata": {
        "id": "RatnyphTyy83"
      },
      "execution_count": null,
      "outputs": []
    },
    {
      "cell_type": "code",
      "source": [
        "# # 코드 5-4 훈련, 검증, 테스트 폴더로 이미지 복사하기\n",
        "import os, shutil\n",
        "\n",
        "# # 원본 데이터셋을 압축 해제한 디렉터리 경로\n",
        "original_dataset_dir = '/content/cats_and_dogs/train'\n",
        "\n",
        "# # 소규모 데이터셋을 저장할 디렉터리\n",
        "base_dir = '/content/cats_and_dogs_small'\n",
        "if os.path.exists(base_dir):  # 차후 코드 재실행의 경우를 대비해 이미 디렉터리 있는 경우 삭제시키기\n",
        "    shutil.rmtree(base_dir)   \n",
        "os.mkdir(base_dir)\n",
        "\n",
        "# # 훈련, 검증, 테스트 분할을 위한 디렉터리\n",
        "train_dir = os.path.join(base_dir, 'train')\n",
        "os.mkdir(train_dir)\n",
        "validation_dir = os.path.join(base_dir, 'validation')\n",
        "os.mkdir(validation_dir)\n",
        "test_dir = os.path.join(base_dir, 'test')\n",
        "os.mkdir(test_dir)\n",
        "\n",
        "# # 훈련용 고양이 사진 디렉터리\n",
        "train_cats_dir = os.path.join(train_dir, 'cats')\n",
        "os.mkdir(train_cats_dir)\n",
        "\n",
        "# # 훈련용 강아지 사진 디렉터리\n",
        "train_dogs_dir = os.path.join(train_dir, 'dogs')\n",
        "os.mkdir(train_dogs_dir)\n",
        "\n",
        "# 검증용 고양이 사진 디렉터리\n",
        "validation_cats_dir = os.path.join(validation_dir, 'cats')\n",
        "os.mkdir(validation_cats_dir)\n",
        "\n",
        "# 검증용 강아지 사진 디렉터리\n",
        "validation_dogs_dir = os.path.join(validation_dir, 'dogs')\n",
        "os.mkdir(validation_dogs_dir)\n",
        "\n",
        "# 테스트용 고양이 사진 디렉터리\n",
        "test_cats_dir = os.path.join(test_dir, 'cats')\n",
        "os.mkdir(test_cats_dir)\n",
        "\n",
        "# 테스트용 강아지 사진 디렉터리\n",
        "test_dogs_dir = os.path.join(test_dir, 'dogs')\n",
        "os.mkdir(test_dogs_dir)\n",
        "\n",
        "# 처음 1,000개의 고양이 이미지를 train_cats_dir에 복사합니다\n",
        "fnames = ['cat.{}.jpg'.format(i) for i in range(1000)]\n",
        "for fname in fnames:\n",
        "    src = os.path.join(original_dataset_dir, fname)\n",
        "    dst = os.path.join(train_cats_dir, fname)\n",
        "    shutil.copyfile(src, dst)\n",
        "\n",
        "# 다음 500개 고양이 이미지를 validation_cats_dir에 복사합니다\n",
        "fnames = ['cat.{}.jpg'.format(i) for i in range(1000, 1500)]\n",
        "for fname in fnames:\n",
        "    src = os.path.join(original_dataset_dir, fname)\n",
        "    dst = os.path.join(validation_cats_dir, fname)\n",
        "    shutil.copyfile(src, dst)\n",
        "\n",
        "# 다음 500개 고양이 이미지를 test_cats_dir에 복사합니다\n",
        "fnames = ['cat.{}.jpg'.format(i) for i in range(1500, 2000)]\n",
        "for fname in fnames:\n",
        "    src = os.path.join(original_dataset_dir, fname)\n",
        "    dst = os.path.join(test_cats_dir, fname)\n",
        "    shutil.copyfile(src, dst)\n",
        "\n",
        "# 처음 1,000개의 강아지 이미지를 train_dogs_dir에 복사합니다\n",
        "fnames = ['dog.{}.jpg'.format(i) for i in range(1000)]\n",
        "for fname in fnames:\n",
        "    src = os.path.join(original_dataset_dir, fname)\n",
        "    dst = os.path.join(train_dogs_dir, fname)\n",
        "    shutil.copyfile(src, dst)\n",
        "\n",
        "# 다음 500개 강아지 이미지를 validation_dogs_dir에 복사합니다\n",
        "fnames = ['dog.{}.jpg'.format(i) for i in range(1000, 1500)]\n",
        "for fname in fnames:\n",
        "    src = os.path.join(original_dataset_dir, fname)\n",
        "    dst = os.path.join(validation_dogs_dir, fname)\n",
        "    shutil.copyfile(src, dst)\n",
        "\n",
        "# 다음 500개 강아지 이미지를 test_dogs_dir에 복사합니다\n",
        "fnames = ['dog.{}.jpg'.format(i) for i in range(1500, 2000)]\n",
        "for fname in fnames:\n",
        "    src = os.path.join(original_dataset_dir, fname)\n",
        "    dst = os.path.join(test_dogs_dir, fname)\n",
        "    shutil.copyfile(src, dst)"
      ],
      "metadata": {
        "id": "vaZPk3veHVHX"
      },
      "execution_count": null,
      "outputs": []
    },
    {
      "cell_type": "code",
      "source": [
        "# 코드 5-5 강아지 vs. 고양이 분류를 위한 소규모 컨브넷 만들기\n",
        "from keras import layers\n",
        "from keras import models\n",
        "\n",
        "model = models.Sequential()\n",
        "model.add(layers.Conv2D(32, (3, 3), activation='relu',\n",
        "                        input_shape=(150, 150, 3)))\n",
        "model.add(layers.MaxPooling2D((2, 2)))\n",
        "model.add(layers.Conv2D(64, (3, 3), activation='relu'))\n",
        "model.add(layers.MaxPooling2D((2, 2)))\n",
        "model.add(layers.Conv2D(128, (3, 3), activation='relu'))\n",
        "model.add(layers.MaxPooling2D((2, 2)))\n",
        "model.add(layers.Conv2D(128, (3, 3), activation='relu'))\n",
        "model.add(layers.MaxPooling2D((2, 2)))\n",
        "model.add(layers.Flatten())\n",
        "model.add(layers.Dense(512, activation='relu'))\n",
        "model.add(layers.Dense(1, activation='sigmoid'))"
      ],
      "metadata": {
        "id": "9Z70dPxMHfZg"
      },
      "execution_count": null,
      "outputs": []
    },
    {
      "cell_type": "code",
      "source": [
        "model.summary()"
      ],
      "metadata": {
        "colab": {
          "base_uri": "https://localhost:8080/"
        },
        "id": "Nf0ak67_2ITf",
        "outputId": "c7a0b2c7-74db-46da-b659-1f7782a28637"
      },
      "execution_count": null,
      "outputs": [
        {
          "output_type": "stream",
          "name": "stdout",
          "text": [
            "Model: \"sequential\"\n",
            "_________________________________________________________________\n",
            " Layer (type)                Output Shape              Param #   \n",
            "=================================================================\n",
            " conv2d (Conv2D)             (None, 148, 148, 32)      896       \n",
            "                                                                 \n",
            " max_pooling2d (MaxPooling2D  (None, 74, 74, 32)       0         \n",
            " )                                                               \n",
            "                                                                 \n",
            " conv2d_1 (Conv2D)           (None, 72, 72, 64)        18496     \n",
            "                                                                 \n",
            " max_pooling2d_1 (MaxPooling  (None, 36, 36, 64)       0         \n",
            " 2D)                                                             \n",
            "                                                                 \n",
            " conv2d_2 (Conv2D)           (None, 34, 34, 128)       73856     \n",
            "                                                                 \n",
            " max_pooling2d_2 (MaxPooling  (None, 17, 17, 128)      0         \n",
            " 2D)                                                             \n",
            "                                                                 \n",
            " conv2d_3 (Conv2D)           (None, 15, 15, 128)       147584    \n",
            "                                                                 \n",
            " max_pooling2d_3 (MaxPooling  (None, 7, 7, 128)        0         \n",
            " 2D)                                                             \n",
            "                                                                 \n",
            " flatten (Flatten)           (None, 6272)              0         \n",
            "                                                                 \n",
            " dense (Dense)               (None, 512)               3211776   \n",
            "                                                                 \n",
            " dense_1 (Dense)             (None, 1)                 513       \n",
            "                                                                 \n",
            "=================================================================\n",
            "Total params: 3,453,121\n",
            "Trainable params: 3,453,121\n",
            "Non-trainable params: 0\n",
            "_________________________________________________________________\n"
          ]
        }
      ]
    },
    {
      "cell_type": "code",
      "source": [
        "# 코드 5-6 모델의 훈련 설정하기\n",
        "from tensorflow.keras import optimizers\n",
        "\n",
        "model.compile(loss='binary_crossentropy',\n",
        "              optimizer=optimizers.RMSprop(lr=1e-4),\n",
        "              metrics=['acc'])"
      ],
      "metadata": {
        "colab": {
          "base_uri": "https://localhost:8080/"
        },
        "id": "ijGUOiHZ2Nfs",
        "outputId": "e4ab1a74-66f4-4be5-8da6-d96deda99159"
      },
      "execution_count": null,
      "outputs": [
        {
          "output_type": "stream",
          "name": "stderr",
          "text": [
            "/usr/local/lib/python3.7/dist-packages/keras/optimizer_v2/rmsprop.py:130: UserWarning: The `lr` argument is deprecated, use `learning_rate` instead.\n",
            "  super(RMSprop, self).__init__(name, **kwargs)\n"
          ]
        }
      ]
    },
    {
      "cell_type": "code",
      "source": [
        "# 코드 5-7 ImageDataGenerator를 사용하여 디렉터리에서 이미지 읽기\n",
        "from keras.preprocessing.image import ImageDataGenerator\n",
        "\n",
        "# 모든 이미지를 1/255로 스케일을 조정합니다 ( 이미지 데이터는 0~255(256개)의 값으로 표현되기 때문에 이를 0~1 값으로 조정함 )\n",
        "train_datagen = ImageDataGenerator(rescale=1./255)\n",
        "test_datagen = ImageDataGenerator(rescale=1./255)\n",
        "\n",
        "train_generator = train_datagen.flow_from_directory(\n",
        "        # 타깃 디렉터리\n",
        "        train_dir,\n",
        "        # 모든 이미지를 150 × 150 크기로 바꿉니다\n",
        "        target_size=(150, 150),\n",
        "        batch_size=20,\n",
        "        # binary_crossentropy 손실을 사용하기 때문에 이진 레이블이 필요합니다\n",
        "        class_mode='binary')\n",
        "\n",
        "validation_generator = test_datagen.flow_from_directory(\n",
        "        validation_dir,\n",
        "        target_size=(150, 150),\n",
        "        batch_size=20,\n",
        "        class_mode='binary')"
      ],
      "metadata": {
        "colab": {
          "base_uri": "https://localhost:8080/"
        },
        "id": "Y1C8b0UE2QFy",
        "outputId": "b33da607-efb5-4ebc-f644-3083465da6da"
      },
      "execution_count": null,
      "outputs": [
        {
          "output_type": "stream",
          "name": "stdout",
          "text": [
            "Found 2000 images belonging to 2 classes.\n",
            "Found 1000 images belonging to 2 classes.\n"
          ]
        }
      ]
    },
    {
      "cell_type": "code",
      "source": [
        "# 코드 5-8 배치 제너레이터를 사용하여 모델 훈련하기\n",
        "history = model.fit_generator(\n",
        "      train_generator,\n",
        "      steps_per_epoch=100,\n",
        "      epochs=30,\n",
        "      validation_data=validation_generator,\n",
        "      validation_steps=50)"
      ],
      "metadata": {
        "colab": {
          "base_uri": "https://localhost:8080/"
        },
        "id": "G_6o2rxv2eHj",
        "outputId": "fe4f87b4-4b6a-4875-dadc-36363a5a7e91"
      },
      "execution_count": null,
      "outputs": [
        {
          "output_type": "stream",
          "name": "stderr",
          "text": [
            "/usr/local/lib/python3.7/dist-packages/ipykernel_launcher.py:7: UserWarning: `Model.fit_generator` is deprecated and will be removed in a future version. Please use `Model.fit`, which supports generators.\n",
            "  import sys\n"
          ]
        },
        {
          "output_type": "stream",
          "name": "stdout",
          "text": [
            "Epoch 1/30\n",
            "100/100 [==============================] - 20s 89ms/step - loss: 0.6896 - acc: 0.5510 - val_loss: 0.6983 - val_acc: 0.5000\n",
            "Epoch 2/30\n",
            "100/100 [==============================] - 9s 94ms/step - loss: 0.6576 - acc: 0.6050 - val_loss: 0.6380 - val_acc: 0.6350\n",
            "Epoch 3/30\n",
            "100/100 [==============================] - 10s 97ms/step - loss: 0.6189 - acc: 0.6700 - val_loss: 0.6344 - val_acc: 0.6210\n",
            "Epoch 4/30\n",
            "100/100 [==============================] - 9s 85ms/step - loss: 0.5700 - acc: 0.7030 - val_loss: 0.5905 - val_acc: 0.6710\n",
            "Epoch 5/30\n",
            "100/100 [==============================] - 9s 85ms/step - loss: 0.5334 - acc: 0.7330 - val_loss: 0.5790 - val_acc: 0.6790\n",
            "Epoch 6/30\n",
            "100/100 [==============================] - 8s 85ms/step - loss: 0.5018 - acc: 0.7550 - val_loss: 0.5741 - val_acc: 0.6980\n",
            "Epoch 7/30\n",
            "100/100 [==============================] - 9s 86ms/step - loss: 0.4866 - acc: 0.7615 - val_loss: 0.5905 - val_acc: 0.6800\n",
            "Epoch 8/30\n",
            "100/100 [==============================] - 9s 86ms/step - loss: 0.4617 - acc: 0.7785 - val_loss: 0.5906 - val_acc: 0.6940\n",
            "Epoch 9/30\n",
            "100/100 [==============================] - 9s 87ms/step - loss: 0.4272 - acc: 0.8035 - val_loss: 0.5533 - val_acc: 0.7170\n",
            "Epoch 10/30\n",
            "100/100 [==============================] - 9s 85ms/step - loss: 0.4001 - acc: 0.8180 - val_loss: 0.5721 - val_acc: 0.7060\n",
            "Epoch 11/30\n",
            "100/100 [==============================] - 9s 86ms/step - loss: 0.3822 - acc: 0.8315 - val_loss: 0.5420 - val_acc: 0.7470\n",
            "Epoch 12/30\n",
            "100/100 [==============================] - 9s 86ms/step - loss: 0.3587 - acc: 0.8390 - val_loss: 0.5851 - val_acc: 0.7210\n",
            "Epoch 13/30\n",
            "100/100 [==============================] - 9s 86ms/step - loss: 0.3309 - acc: 0.8625 - val_loss: 0.5956 - val_acc: 0.7320\n",
            "Epoch 14/30\n",
            "100/100 [==============================] - 9s 85ms/step - loss: 0.3105 - acc: 0.8645 - val_loss: 0.5747 - val_acc: 0.7360\n",
            "Epoch 15/30\n",
            "100/100 [==============================] - 9s 87ms/step - loss: 0.2837 - acc: 0.8810 - val_loss: 0.7145 - val_acc: 0.6970\n",
            "Epoch 16/30\n",
            "100/100 [==============================] - 9s 86ms/step - loss: 0.2607 - acc: 0.8970 - val_loss: 0.6439 - val_acc: 0.7340\n",
            "Epoch 17/30\n",
            "100/100 [==============================] - 9s 86ms/step - loss: 0.2433 - acc: 0.9010 - val_loss: 0.6122 - val_acc: 0.7380\n",
            "Epoch 18/30\n",
            "100/100 [==============================] - 9s 86ms/step - loss: 0.2198 - acc: 0.9175 - val_loss: 0.6530 - val_acc: 0.7290\n",
            "Epoch 19/30\n",
            "100/100 [==============================] - 9s 86ms/step - loss: 0.1955 - acc: 0.9305 - val_loss: 0.6258 - val_acc: 0.7360\n",
            "Epoch 20/30\n",
            "100/100 [==============================] - 9s 86ms/step - loss: 0.1752 - acc: 0.9360 - val_loss: 0.6790 - val_acc: 0.7310\n",
            "Epoch 21/30\n",
            "100/100 [==============================] - 9s 86ms/step - loss: 0.1567 - acc: 0.9465 - val_loss: 0.7157 - val_acc: 0.7250\n",
            "Epoch 22/30\n",
            "100/100 [==============================] - 9s 86ms/step - loss: 0.1426 - acc: 0.9495 - val_loss: 0.7384 - val_acc: 0.7280\n",
            "Epoch 23/30\n",
            "100/100 [==============================] - 9s 86ms/step - loss: 0.1270 - acc: 0.9575 - val_loss: 0.7237 - val_acc: 0.7370\n",
            "Epoch 24/30\n",
            "100/100 [==============================] - 9s 86ms/step - loss: 0.1086 - acc: 0.9670 - val_loss: 0.7496 - val_acc: 0.7350\n",
            "Epoch 25/30\n",
            "100/100 [==============================] - 9s 85ms/step - loss: 0.0912 - acc: 0.9720 - val_loss: 0.8700 - val_acc: 0.7220\n",
            "Epoch 26/30\n",
            "100/100 [==============================] - 9s 85ms/step - loss: 0.0801 - acc: 0.9780 - val_loss: 0.8126 - val_acc: 0.7350\n",
            "Epoch 27/30\n",
            "100/100 [==============================] - 9s 85ms/step - loss: 0.0677 - acc: 0.9835 - val_loss: 0.8848 - val_acc: 0.7350\n",
            "Epoch 28/30\n",
            "100/100 [==============================] - 9s 86ms/step - loss: 0.0598 - acc: 0.9825 - val_loss: 0.9218 - val_acc: 0.7300\n",
            "Epoch 29/30\n",
            "100/100 [==============================] - 9s 86ms/step - loss: 0.0484 - acc: 0.9875 - val_loss: 0.9146 - val_acc: 0.7250\n",
            "Epoch 30/30\n",
            "100/100 [==============================] - 9s 85ms/step - loss: 0.0410 - acc: 0.9885 - val_loss: 0.9952 - val_acc: 0.7330\n"
          ]
        }
      ]
    },
    {
      "cell_type": "code",
      "source": [
        "# 코드 5-9 데이터 저장하기\n",
        "model.save('cats_and_dogs_small_1.h5')"
      ],
      "metadata": {
        "id": "ejQ8C8Ya6hkY"
      },
      "execution_count": null,
      "outputs": []
    },
    {
      "cell_type": "code",
      "source": [
        "# 코드 5-10 훈련의 정확도와 손실 그래프 그리기\n",
        "import matplotlib.pyplot as plt\n",
        "acc = history.history['acc']\n",
        "val_acc = history.history['val_acc']\n",
        "loss = history.history['loss']\n",
        "val_loss = history.history['val_loss']\n",
        "\n",
        "epochs = range(len(acc))\n",
        "\n",
        "plt.plot(epochs, acc, 'bo', label='Training acc')\n",
        "plt.plot(epochs, val_acc, 'b', label='Validation acc')\n",
        "plt.title('Training and validation accuracy')\n",
        "plt.legend()\n",
        "\n",
        "plt.figure()\n",
        "\n",
        "plt.plot(epochs, loss, 'bo', label='Training loss')\n",
        "plt.plot(epochs, val_loss, 'b', label='Validation loss')\n",
        "plt.title('Training and validation loss')\n",
        "plt.legend()\n",
        "\n",
        "plt.show()"
      ],
      "metadata": {
        "colab": {
          "base_uri": "https://localhost:8080/",
          "height": 545
        },
        "id": "g1tC8f9NMZ4h",
        "outputId": "284b053c-7599-468c-dbe3-7c735439220b"
      },
      "execution_count": null,
      "outputs": [
        {
          "output_type": "display_data",
          "data": {
            "image/png": "[encoded data removed]",
            "text/plain": [
              "<Figure size 432x288 with 1 Axes>"
            ]
          },
          "metadata": {
            "needs_background": "light"
          }
        },
        {
          "output_type": "display_data",
          "data": {
            "image/png": "[encoded data removed]",
            "text/plain": [
              "<Figure size 432x288 with 1 Axes>"
            ]
          },
          "metadata": {
            "needs_background": "light"
          }
        }
      ]
    },
    {
      "cell_type": "code",
      "source": [
        "'''\n",
        "과적합 발생함.\n",
        "drop out이나 normalization을 사용해도 되지만\n",
        "데이터의 수가 train 2000개, valid and test 1000개 밖에 안 되므로\n",
        "데이터 증식을 통해 과적합을 해결하고자 함.\n",
        "'''\n",
        "\n",
        "# 코드 5-11 ImageDataGenerator를 사용하여 데이터 증식 설정하기\n",
        "datagen = ImageDataGenerator(\n",
        "      rotation_range=40,\n",
        "      width_shift_range=0.2,\n",
        "      height_shift_range=0.2,\n",
        "      shear_range=0.2,\n",
        "      zoom_range=0.2,\n",
        "      horizontal_flip=True,\n",
        "      fill_mode='nearest')"
      ],
      "metadata": {
        "id": "W-z6YkvzMb5V"
      },
      "execution_count": null,
      "outputs": []
    },
    {
      "cell_type": "code",
      "source": [
        "model = models.Sequential()\n",
        "model.add(layers.Conv2D(32, (3, 3), activation='relu',\n",
        "                        input_shape=(150, 150, 3)))\n",
        "model.add(layers.MaxPooling2D((2, 2)))\n",
        "model.add(layers.Conv2D(64, (3, 3), activation='relu'))\n",
        "model.add(layers.MaxPooling2D((2, 2)))\n",
        "model.add(layers.Conv2D(128, (3, 3), activation='relu'))\n",
        "model.add(layers.MaxPooling2D((2, 2)))\n",
        "model.add(layers.Conv2D(128, (3, 3), activation='relu'))\n",
        "model.add(layers.MaxPooling2D((2, 2)))\n",
        "model.add(layers.Flatten())\n",
        "model.add(layers.Dropout(0.5))\n",
        "model.add(layers.Dense(512, activation='relu'))\n",
        "model.add(layers.Dense(1, activation='sigmoid'))\n",
        "\n",
        "model.compile(loss='binary_crossentropy',\n",
        "              optimizer=optimizers.RMSprop(lr=1e-4),\n",
        "              metrics=['acc'])\n",
        "\n",
        "train_datagen = ImageDataGenerator(\n",
        "    rescale=1./255,\n",
        "    rotation_range=40,\n",
        "    width_shift_range=0.2,\n",
        "    height_shift_range=0.2,\n",
        "    shear_range=0.2,\n",
        "    zoom_range=0.2,\n",
        "    horizontal_flip=True,)\n",
        "\n",
        "# 검증 데이터는 증식되어서는 안 됩니다!\n",
        "test_datagen = ImageDataGenerator(rescale=1./255)\n",
        "\n",
        "train_generator = train_datagen.flow_from_directory(\n",
        "        # 타깃 디렉터리\n",
        "        train_dir,\n",
        "        # 모든 이미지를 150 × 150 크기로 바꿉니다\n",
        "        target_size=(150, 150),\n",
        "        batch_size=32,\n",
        "        # binary_crossentropy 손실을 사용하기 때문에 이진 레이블을 만들어야 합니다\n",
        "        class_mode='binary')\n",
        "\n",
        "validation_generator = test_datagen.flow_from_directory(\n",
        "        validation_dir,\n",
        "        target_size=(150, 150),\n",
        "        batch_size=32,\n",
        "        class_mode='binary')\n",
        "\n",
        "history = model.fit_generator(\n",
        "      train_generator,\n",
        "      steps_per_epoch=60,\n",
        "      epochs=100,\n",
        "      validation_data=validation_generator,\n",
        "      validation_steps=30)\n",
        "\n",
        "model.save('cats_and_dogs_small_2.h5')\n",
        "\n",
        "acc = history.history['acc']\n",
        "val_acc = history.history['val_acc']\n",
        "loss = history.history['loss']\n",
        "val_loss = history.history['val_loss']\n",
        "\n",
        "epochs = range(len(acc))\n",
        "\n",
        "plt.plot(epochs, acc, 'bo', label='Training acc')\n",
        "plt.plot(epochs, val_acc, 'b', label='Validation acc')\n",
        "plt.title('Training and validation accuracy')\n",
        "plt.legend()\n",
        "\n",
        "plt.figure()\n",
        "\n",
        "plt.plot(epochs, loss, 'bo', label='Training loss')\n",
        "plt.plot(epochs, val_loss, 'b', label='Validation loss')\n",
        "plt.title('Training and validation loss')\n",
        "plt.legend()\n",
        "\n",
        "plt.show()"
      ],
      "metadata": {
        "colab": {
          "base_uri": "https://localhost:8080/",
          "height": 1000
        },
        "id": "_W3Rs75BM1RO",
        "outputId": "857298da-92d7-40f7-de06-532f308879d2"
      },
      "execution_count": null,
      "outputs": [
        {
          "output_type": "stream",
          "name": "stderr",
          "text": [
            "/usr/local/lib/python3.7/dist-packages/keras/optimizer_v2/rmsprop.py:130: UserWarning: The `lr` argument is deprecated, use `learning_rate` instead.\n",
            "  super(RMSprop, self).__init__(name, **kwargs)\n"
          ]
        },
        {
          "output_type": "stream",
          "name": "stdout",
          "text": [
            "Found 2000 images belonging to 2 classes.\n",
            "Found 1000 images belonging to 2 classes.\n"
          ]
        },
        {
          "output_type": "stream",
          "name": "stderr",
          "text": [
            "/usr/local/lib/python3.7/dist-packages/ipykernel_launcher.py:52: UserWarning: `Model.fit_generator` is deprecated and will be removed in a future version. Please use `Model.fit`, which supports generators.\n"
          ]
        },
        {
          "output_type": "stream",
          "name": "stdout",
          "text": [
            "Epoch 1/100\n",
            "60/60 [==============================] - 17s 275ms/step - loss: 0.6972 - acc: 0.5100 - val_loss: 0.6885 - val_acc: 0.5083\n",
            "Epoch 2/100\n",
            "60/60 [==============================] - 16s 265ms/step - loss: 0.6896 - acc: 0.5252 - val_loss: 0.6830 - val_acc: 0.5104\n",
            "Epoch 3/100\n",
            "60/60 [==============================] - 16s 265ms/step - loss: 0.6853 - acc: 0.5657 - val_loss: 0.6726 - val_acc: 0.5813\n",
            "Epoch 4/100\n",
            "60/60 [==============================] - 16s 265ms/step - loss: 0.6777 - acc: 0.5767 - val_loss: 0.6841 - val_acc: 0.5406\n",
            "Epoch 5/100\n",
            "60/60 [==============================] - 16s 265ms/step - loss: 0.6744 - acc: 0.5903 - val_loss: 0.6432 - val_acc: 0.6250\n",
            "Epoch 6/100\n",
            "60/60 [==============================] - 16s 264ms/step - loss: 0.6641 - acc: 0.5956 - val_loss: 0.6409 - val_acc: 0.6344\n",
            "Epoch 7/100\n",
            "60/60 [==============================] - 16s 265ms/step - loss: 0.6549 - acc: 0.6008 - val_loss: 0.6570 - val_acc: 0.6042\n",
            "Epoch 8/100\n",
            "60/60 [==============================] - 16s 262ms/step - loss: 0.6509 - acc: 0.6003 - val_loss: 0.6136 - val_acc: 0.6646\n",
            "Epoch 9/100\n",
            "60/60 [==============================] - 16s 266ms/step - loss: 0.6329 - acc: 0.6371 - val_loss: 0.6018 - val_acc: 0.6771\n",
            "Epoch 10/100\n",
            "60/60 [==============================] - 16s 266ms/step - loss: 0.6224 - acc: 0.6444 - val_loss: 0.5976 - val_acc: 0.6854\n",
            "Epoch 11/100\n",
            "60/60 [==============================] - 16s 266ms/step - loss: 0.6215 - acc: 0.6560 - val_loss: 0.6127 - val_acc: 0.6729\n",
            "Epoch 12/100\n",
            "60/60 [==============================] - 16s 265ms/step - loss: 0.6074 - acc: 0.6686 - val_loss: 0.5967 - val_acc: 0.6760\n",
            "Epoch 13/100\n",
            "60/60 [==============================] - 16s 265ms/step - loss: 0.6039 - acc: 0.6759 - val_loss: 0.5718 - val_acc: 0.6927\n",
            "Epoch 14/100\n",
            "60/60 [==============================] - 16s 265ms/step - loss: 0.6084 - acc: 0.6660 - val_loss: 0.5806 - val_acc: 0.6719\n",
            "Epoch 15/100\n",
            "60/60 [==============================] - 16s 267ms/step - loss: 0.5936 - acc: 0.6817 - val_loss: 0.5739 - val_acc: 0.6865\n",
            "Epoch 16/100\n",
            "60/60 [==============================] - 16s 266ms/step - loss: 0.5948 - acc: 0.6807 - val_loss: 0.5771 - val_acc: 0.6958\n",
            "Epoch 17/100\n",
            "60/60 [==============================] - 16s 264ms/step - loss: 0.5912 - acc: 0.6838 - val_loss: 0.5771 - val_acc: 0.6833\n",
            "Epoch 18/100\n",
            "60/60 [==============================] - 16s 268ms/step - loss: 0.5769 - acc: 0.7106 - val_loss: 0.5538 - val_acc: 0.7021\n",
            "Epoch 19/100\n",
            "60/60 [==============================] - 16s 265ms/step - loss: 0.5663 - acc: 0.7054 - val_loss: 0.5396 - val_acc: 0.7167\n",
            "Epoch 20/100\n",
            "60/60 [==============================] - 16s 265ms/step - loss: 0.5711 - acc: 0.6907 - val_loss: 0.5511 - val_acc: 0.7229\n",
            "Epoch 21/100\n",
            "60/60 [==============================] - 16s 267ms/step - loss: 0.5707 - acc: 0.6933 - val_loss: 0.5746 - val_acc: 0.6938\n",
            "Epoch 22/100\n",
            "60/60 [==============================] - 16s 266ms/step - loss: 0.5602 - acc: 0.7132 - val_loss: 0.5929 - val_acc: 0.7010\n",
            "Epoch 23/100\n",
            "60/60 [==============================] - 16s 267ms/step - loss: 0.5472 - acc: 0.7174 - val_loss: 0.5088 - val_acc: 0.7323\n",
            "Epoch 24/100\n",
            "60/60 [==============================] - 16s 262ms/step - loss: 0.5548 - acc: 0.7106 - val_loss: 0.5243 - val_acc: 0.7250\n",
            "Epoch 25/100\n",
            "60/60 [==============================] - 16s 263ms/step - loss: 0.5384 - acc: 0.7201 - val_loss: 0.5655 - val_acc: 0.6958\n",
            "Epoch 26/100\n",
            "60/60 [==============================] - 16s 262ms/step - loss: 0.5566 - acc: 0.7185 - val_loss: 0.5261 - val_acc: 0.7312\n",
            "Epoch 27/100\n",
            "60/60 [==============================] - 16s 268ms/step - loss: 0.5481 - acc: 0.7185 - val_loss: 0.5285 - val_acc: 0.7323\n",
            "Epoch 28/100\n",
            "60/60 [==============================] - 16s 274ms/step - loss: 0.5532 - acc: 0.7185 - val_loss: 0.5645 - val_acc: 0.7052\n",
            "Epoch 29/100\n",
            "60/60 [==============================] - 17s 279ms/step - loss: 0.5559 - acc: 0.7164 - val_loss: 0.5190 - val_acc: 0.7365\n",
            "Epoch 30/100\n",
            "60/60 [==============================] - 16s 274ms/step - loss: 0.5511 - acc: 0.7101 - val_loss: 0.5237 - val_acc: 0.7344\n",
            "Epoch 31/100\n",
            "60/60 [==============================] - 19s 314ms/step - loss: 0.5276 - acc: 0.7306 - val_loss: 0.5022 - val_acc: 0.7479\n",
            "Epoch 32/100\n",
            "60/60 [==============================] - 16s 271ms/step - loss: 0.5297 - acc: 0.7260 - val_loss: 0.5099 - val_acc: 0.7417\n",
            "Epoch 33/100\n",
            "60/60 [==============================] - 16s 269ms/step - loss: 0.5376 - acc: 0.7342 - val_loss: 0.4998 - val_acc: 0.7490\n",
            "Epoch 34/100\n",
            "60/60 [==============================] - 16s 271ms/step - loss: 0.5326 - acc: 0.7148 - val_loss: 0.5110 - val_acc: 0.7365\n",
            "Epoch 35/100\n",
            "60/60 [==============================] - 16s 268ms/step - loss: 0.5297 - acc: 0.7390 - val_loss: 0.5269 - val_acc: 0.7312\n",
            "Epoch 36/100\n",
            "60/60 [==============================] - 16s 270ms/step - loss: 0.5127 - acc: 0.7505 - val_loss: 0.5279 - val_acc: 0.7333\n",
            "Epoch 37/100\n",
            "60/60 [==============================] - 16s 269ms/step - loss: 0.5294 - acc: 0.7311 - val_loss: 0.5181 - val_acc: 0.7385\n",
            "Epoch 38/100\n",
            "60/60 [==============================] - 16s 272ms/step - loss: 0.5245 - acc: 0.7411 - val_loss: 0.5123 - val_acc: 0.7458\n",
            "Epoch 39/100\n",
            "60/60 [==============================] - 16s 268ms/step - loss: 0.5213 - acc: 0.7463 - val_loss: 0.4997 - val_acc: 0.7510\n",
            "Epoch 40/100\n",
            "60/60 [==============================] - 16s 270ms/step - loss: 0.5166 - acc: 0.7379 - val_loss: 0.5083 - val_acc: 0.7521\n",
            "Epoch 41/100\n",
            "60/60 [==============================] - 19s 312ms/step - loss: 0.5050 - acc: 0.7521 - val_loss: 0.5514 - val_acc: 0.7281\n",
            "Epoch 42/100\n",
            "60/60 [==============================] - 16s 268ms/step - loss: 0.4995 - acc: 0.7568 - val_loss: 0.5107 - val_acc: 0.7354\n",
            "Epoch 43/100\n",
            "60/60 [==============================] - 16s 270ms/step - loss: 0.4955 - acc: 0.7563 - val_loss: 0.5596 - val_acc: 0.7188\n",
            "Epoch 44/100\n",
            "60/60 [==============================] - 16s 272ms/step - loss: 0.4942 - acc: 0.7521 - val_loss: 0.4727 - val_acc: 0.7646\n",
            "Epoch 45/100\n",
            "60/60 [==============================] - 16s 271ms/step - loss: 0.4857 - acc: 0.7694 - val_loss: 0.4836 - val_acc: 0.7552\n",
            "Epoch 46/100\n",
            "60/60 [==============================] - 16s 268ms/step - loss: 0.4974 - acc: 0.7579 - val_loss: 0.4865 - val_acc: 0.7615\n",
            "Epoch 47/100\n",
            "60/60 [==============================] - 16s 270ms/step - loss: 0.4971 - acc: 0.7521 - val_loss: 0.4622 - val_acc: 0.7740\n",
            "Epoch 48/100\n",
            "60/60 [==============================] - 16s 270ms/step - loss: 0.4995 - acc: 0.7589 - val_loss: 0.5211 - val_acc: 0.7469\n",
            "Epoch 49/100\n",
            "60/60 [==============================] - 16s 269ms/step - loss: 0.4968 - acc: 0.7736 - val_loss: 0.4720 - val_acc: 0.7740\n",
            "Epoch 50/100\n",
            "60/60 [==============================] - 16s 267ms/step - loss: 0.4795 - acc: 0.7757 - val_loss: 0.4933 - val_acc: 0.7552\n",
            "Epoch 51/100\n",
            "60/60 [==============================] - 16s 266ms/step - loss: 0.4869 - acc: 0.7595 - val_loss: 0.4697 - val_acc: 0.7771\n",
            "Epoch 52/100\n",
            "60/60 [==============================] - 16s 267ms/step - loss: 0.4826 - acc: 0.7621 - val_loss: 0.4725 - val_acc: 0.7760\n",
            "Epoch 53/100\n",
            "60/60 [==============================] - 16s 267ms/step - loss: 0.4779 - acc: 0.7668 - val_loss: 0.4644 - val_acc: 0.7750\n",
            "Epoch 54/100\n",
            "60/60 [==============================] - 16s 268ms/step - loss: 0.4742 - acc: 0.7726 - val_loss: 0.5614 - val_acc: 0.7250\n",
            "Epoch 55/100\n",
            "60/60 [==============================] - 16s 264ms/step - loss: 0.4765 - acc: 0.7715 - val_loss: 0.4729 - val_acc: 0.7625\n",
            "Epoch 56/100\n",
            "60/60 [==============================] - 16s 265ms/step - loss: 0.4844 - acc: 0.7726 - val_loss: 0.4877 - val_acc: 0.7667\n",
            "Epoch 57/100\n",
            "60/60 [==============================] - 16s 265ms/step - loss: 0.4674 - acc: 0.7715 - val_loss: 0.4712 - val_acc: 0.7729\n",
            "Epoch 58/100\n",
            "60/60 [==============================] - 16s 266ms/step - loss: 0.4723 - acc: 0.7663 - val_loss: 0.4745 - val_acc: 0.7740\n",
            "Epoch 59/100\n",
            "60/60 [==============================] - 16s 265ms/step - loss: 0.4594 - acc: 0.7826 - val_loss: 0.4493 - val_acc: 0.7812\n",
            "Epoch 60/100\n",
            "60/60 [==============================] - 16s 267ms/step - loss: 0.4804 - acc: 0.7605 - val_loss: 0.4560 - val_acc: 0.7740\n",
            "Epoch 61/100\n",
            "60/60 [==============================] - 16s 266ms/step - loss: 0.4738 - acc: 0.7652 - val_loss: 0.4602 - val_acc: 0.7760\n",
            "Epoch 62/100\n",
            "60/60 [==============================] - 16s 267ms/step - loss: 0.4741 - acc: 0.7750 - val_loss: 0.4647 - val_acc: 0.7698\n",
            "Epoch 63/100\n",
            "60/60 [==============================] - 18s 297ms/step - loss: 0.4613 - acc: 0.7910 - val_loss: 0.5273 - val_acc: 0.7500\n",
            "Epoch 64/100\n",
            "60/60 [==============================] - 16s 268ms/step - loss: 0.4664 - acc: 0.7679 - val_loss: 0.5069 - val_acc: 0.7437\n",
            "Epoch 65/100\n",
            "60/60 [==============================] - 16s 265ms/step - loss: 0.4453 - acc: 0.7894 - val_loss: 0.4509 - val_acc: 0.7802\n",
            "Epoch 66/100\n",
            "60/60 [==============================] - 16s 266ms/step - loss: 0.4681 - acc: 0.7736 - val_loss: 0.4960 - val_acc: 0.7625\n",
            "Epoch 67/100\n",
            "60/60 [==============================] - 16s 265ms/step - loss: 0.4585 - acc: 0.7831 - val_loss: 0.4690 - val_acc: 0.7625\n",
            "Epoch 68/100\n",
            "60/60 [==============================] - 16s 264ms/step - loss: 0.4621 - acc: 0.7794 - val_loss: 0.4345 - val_acc: 0.7937\n",
            "Epoch 69/100\n",
            "60/60 [==============================] - 18s 302ms/step - loss: 0.4446 - acc: 0.7868 - val_loss: 0.4362 - val_acc: 0.7885\n",
            "Epoch 70/100\n",
            "60/60 [==============================] - 16s 265ms/step - loss: 0.4579 - acc: 0.7873 - val_loss: 0.4624 - val_acc: 0.7896\n",
            "Epoch 71/100\n",
            "60/60 [==============================] - 16s 266ms/step - loss: 0.4530 - acc: 0.7784 - val_loss: 0.4791 - val_acc: 0.7750\n",
            "Epoch 72/100\n",
            "60/60 [==============================] - 16s 263ms/step - loss: 0.4341 - acc: 0.7915 - val_loss: 0.5260 - val_acc: 0.7354\n",
            "Epoch 73/100\n",
            "60/60 [==============================] - 16s 264ms/step - loss: 0.4339 - acc: 0.7994 - val_loss: 0.4395 - val_acc: 0.7948\n",
            "Epoch 74/100\n",
            "60/60 [==============================] - 16s 261ms/step - loss: 0.4487 - acc: 0.7904 - val_loss: 0.4993 - val_acc: 0.7760\n",
            "Epoch 75/100\n",
            "60/60 [==============================] - 16s 265ms/step - loss: 0.4403 - acc: 0.8020 - val_loss: 0.4462 - val_acc: 0.7896\n",
            "Epoch 76/100\n",
            "60/60 [==============================] - 16s 263ms/step - loss: 0.4374 - acc: 0.7894 - val_loss: 0.4269 - val_acc: 0.8000\n",
            "Epoch 77/100\n",
            "60/60 [==============================] - 16s 263ms/step - loss: 0.4312 - acc: 0.7983 - val_loss: 0.4849 - val_acc: 0.7594\n",
            "Epoch 78/100\n",
            "60/60 [==============================] - 16s 262ms/step - loss: 0.4360 - acc: 0.7910 - val_loss: 0.5090 - val_acc: 0.7573\n",
            "Epoch 79/100\n",
            "60/60 [==============================] - 16s 264ms/step - loss: 0.4349 - acc: 0.7988 - val_loss: 0.4767 - val_acc: 0.7760\n",
            "Epoch 80/100\n",
            "60/60 [==============================] - 16s 264ms/step - loss: 0.4461 - acc: 0.7878 - val_loss: 0.4698 - val_acc: 0.7823\n",
            "Epoch 81/100\n",
            "60/60 [==============================] - 16s 263ms/step - loss: 0.4461 - acc: 0.7841 - val_loss: 0.5253 - val_acc: 0.7625\n",
            "Epoch 82/100\n",
            "60/60 [==============================] - 16s 264ms/step - loss: 0.4356 - acc: 0.7962 - val_loss: 0.4950 - val_acc: 0.7521\n",
            "Epoch 83/100\n",
            "60/60 [==============================] - 16s 263ms/step - loss: 0.4389 - acc: 0.8041 - val_loss: 0.4695 - val_acc: 0.7979\n",
            "Epoch 84/100\n",
            "60/60 [==============================] - 17s 279ms/step - loss: 0.4404 - acc: 0.8015 - val_loss: 0.4759 - val_acc: 0.7760\n",
            "Epoch 85/100\n",
            "60/60 [==============================] - 16s 264ms/step - loss: 0.4299 - acc: 0.7925 - val_loss: 0.4697 - val_acc: 0.7823\n",
            "Epoch 86/100\n",
            "60/60 [==============================] - 16s 265ms/step - loss: 0.4305 - acc: 0.7952 - val_loss: 0.4532 - val_acc: 0.7844\n",
            "Epoch 87/100\n",
            "60/60 [==============================] - 16s 263ms/step - loss: 0.4255 - acc: 0.7983 - val_loss: 0.4409 - val_acc: 0.7969\n",
            "Epoch 88/100\n",
            "60/60 [==============================] - 16s 264ms/step - loss: 0.4242 - acc: 0.7999 - val_loss: 0.4454 - val_acc: 0.7896\n",
            "Epoch 89/100\n",
            "60/60 [==============================] - 16s 264ms/step - loss: 0.4134 - acc: 0.8146 - val_loss: 0.4215 - val_acc: 0.8010\n",
            "Epoch 90/100\n",
            "60/60 [==============================] - 16s 264ms/step - loss: 0.4188 - acc: 0.8109 - val_loss: 0.5963 - val_acc: 0.7281\n",
            "Epoch 91/100\n",
            "60/60 [==============================] - 16s 264ms/step - loss: 0.4372 - acc: 0.7920 - val_loss: 0.4617 - val_acc: 0.8031\n",
            "Epoch 92/100\n",
            "60/60 [==============================] - 16s 263ms/step - loss: 0.4294 - acc: 0.7999 - val_loss: 0.4433 - val_acc: 0.7917\n",
            "Epoch 93/100\n",
            "60/60 [==============================] - 16s 265ms/step - loss: 0.4258 - acc: 0.8020 - val_loss: 0.4506 - val_acc: 0.7896\n",
            "Epoch 94/100\n",
            "60/60 [==============================] - 16s 264ms/step - loss: 0.4341 - acc: 0.7936 - val_loss: 0.4387 - val_acc: 0.7958\n",
            "Epoch 95/100\n",
            "60/60 [==============================] - 16s 263ms/step - loss: 0.4096 - acc: 0.8099 - val_loss: 0.4375 - val_acc: 0.7958\n",
            "Epoch 96/100\n",
            "60/60 [==============================] - 16s 264ms/step - loss: 0.4109 - acc: 0.8162 - val_loss: 0.4694 - val_acc: 0.7979\n",
            "Epoch 97/100\n",
            "60/60 [==============================] - 16s 264ms/step - loss: 0.4160 - acc: 0.8036 - val_loss: 0.4578 - val_acc: 0.7990\n",
            "Epoch 98/100\n",
            "60/60 [==============================] - 18s 305ms/step - loss: 0.4249 - acc: 0.8083 - val_loss: 0.4309 - val_acc: 0.8021\n",
            "Epoch 99/100\n",
            "60/60 [==============================] - 16s 264ms/step - loss: 0.4131 - acc: 0.8151 - val_loss: 0.5408 - val_acc: 0.7490\n",
            "Epoch 100/100\n",
            "60/60 [==============================] - 16s 264ms/step - loss: 0.4067 - acc: 0.8162 - val_loss: 0.4401 - val_acc: 0.7958\n"
          ]
        },
        {
          "output_type": "display_data",
          "data": {
            "image/png": "[encoded data removed]",
            "text/plain": [
              "<Figure size 432x288 with 1 Axes>"
            ]
          },
          "metadata": {
            "needs_background": "light"
          }
        },
        {
          "output_type": "display_data",
          "data": {
            "image/png": "[encoded data removed]",
            "text/plain": [
              "<Figure size 432x288 with 1 Axes>"
            ]
          },
          "metadata": {
            "needs_background": "light"
          }
        }
      ]
    },
    {
      "cell_type": "code",
      "source": [
        "%cd "
      ],
      "metadata": {
        "id": "b5mutLdJ5ylL",
        "colab": {
          "base_uri": "https://localhost:8080/"
        },
        "outputId": "3fa102f5-319d-4c55-bbaa-7dc5b68734c3"
      },
      "execution_count": 1,
      "outputs": [
        {
          "output_type": "stream",
          "name": "stdout",
          "text": [
            "/content\n"
          ]
        }
      ]
    },
    {
      "cell_type": "code",
      "source": [
        "!git init\n",        
        "!git config --global user.email \"user_email@gmail.com\"\n",
        "!git config --global user.name \"name\"\n",
        "!git add .\n",
        "!git commit -m \"sample code\"\n",
        "!git push origin master"
      ],
      "metadata": {
        "colab": {
          "base_uri": "https://localhost:8080/"
        },
        "id": "k7vX8kmXNNzL",
        "outputId": "f811739c-1bc9-49d6-a8bc-98ea699c528a"
      },
      "execution_count": 18,
      "outputs": [
        {
          "output_type": "stream",
          "name": "stdout",
          "text": [
            "Reinitialized existing Git repository in /content/.git/\n",
            "fatal: remote origin already exists.\n",
            "On branch master\n",
            "nothing to commit, working tree clean\n",
            "fatal: could not read Username for 'https://github.com': No such device or address\n"
          ]
        }
      ]
    },
    {
      "cell_type": "code",
      "source": [
        "!git push --set-upstream origin master"
      ],
      "metadata": {
        "colab": {
          "base_uri": "https://localhost:8080/"
        },
        "id": "8geqWPoZNtlY",
        "outputId": "b0d22bec-7777-41d0-cadd-d76760942e40"
      },
      "execution_count": 21,
      "outputs": [
        {
          "output_type": "stream",
          "name": "stdout",
          "text": [
            "fatal: could not read Username for 'https://github.com': No such device or address\n"
          ]
        }
      ]
    },
    {
      "cell_type": "code",
      "source": [
        "!git remote rm face\n",
        "!git remote rm origin"
      ],
      "metadata": {
        "id": "_4ziu8QaOOuK"
      },
      "execution_count": 24,
      "outputs": []
    },
    {
      "cell_type": "code",
      "source": [
        "!git remote add origin https://github_private_token@github.com/github_user_name/repo_name.git"
      ],
      "metadata": {
        "id": "-HuoIkRsOCVF"
      },
      "execution_count": 27,
      "outputs": []
    },
    {
      "cell_type": "code",
      "source": [
        "!git push origin master"
      ],
      "metadata": {
        "colab": {
          "base_uri": "https://localhost:8080/"
        },
        "id": "e4z_ijW_OVUV",
        "outputId": "c2db6ffa-5971-4f9a-88d2-6bbad6f3f71c"
      },
      "execution_count": 28,
      "outputs": [
        {
          "output_type": "stream",
          "name": "stdout",
          "text": [
            "Counting objects: 26, done.\n",
            "Delta compression using up to 2 threads.\n",
            "Compressing objects: 100% (19/19), done.\n",
            "Writing objects: 100% (26/26), 8.42 MiB | 901.00 KiB/s, done.\n",
            "Total 26 (delta 4), reused 0 (delta 0)\n",
            "remote: Resolving deltas: 100% (4/4), done.\u001b[K\n",
            "remote: \n",
            "remote: Create a pull request for 'master' on GitHub by visiting:\u001b[K\n",
            "remote:      https://github.com/sangmin213/face_recognition/pull/new/master\u001b[K\n",
            "remote: \n",
            "To https://github.com/sangmin213/face_recognition.git\n",
            " * [new branch]      master -> master\n"
          ]
        }
      ]
    },
    {
      "cell_type": "code",
      "source": [
        ""
      ],
      "metadata": {
        "id": "Da8Dfh59OYpF"
      },
      "execution_count": null,
      "outputs": []
    }
  ]
}
